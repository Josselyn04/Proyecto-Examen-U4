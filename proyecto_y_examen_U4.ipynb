{
  "nbformat": 4,
  "nbformat_minor": 0,
  "metadata": {
    "colab": {
      "provenance": []
    },
    "kernelspec": {
      "name": "python3",
      "display_name": "Python 3"
    },
    "language_info": {
      "name": "python"
    }
  },
  "cells": [
    {
      "cell_type": "markdown",
      "source": [
        "**INTRODUCCION**\n",
        "\n",
        "El presente proyecto tiene como objetivo analizar los factores que influyen en el rendimiento académico de los estudiantes en los exámenes, considerando tanto variables individuales como contextuales. El rendimiento escolar es un indicador clave del éxito educativo y está determinado por una variedad de elementos que incluyen hábitos de estudio, asistencia a clases, apoyo familiar, acceso a recursos educativos, y características escolares, entre otros.\n",
        "\n",
        "Para comprender cómo estos factores impactan en las calificaciones, se emplean métodos estadísticos como el Análisis de Varianza (ANOVA) y el test de Tukey. Estas herramientas permiten identificar diferencias significativas entre grupos categorizados según variables como la participación parental, el nivel de motivación del estudiante, el acceso a internet, el ingreso familiar, y la calidad del profesorado. Asimismo, se analizan aspectos como la influencia de los compañeros, las actividades extracurriculares, y las condiciones socioeconómicas.\n",
        "\n",
        "El análisis busca no solo evaluar las diferencias entre grupos, sino también generar información valiosa que permita diseñar estrategias pedagógicas y políticas educativas más efectivas. Al identificar patrones y relaciones clave, se pretende contribuir al desarrollo de soluciones que promuevan una educación más inclusiva y equitativa, mejorando así las oportunidades de éxito académico para todos los estudiantes."
      ],
      "metadata": {
        "id": "Vme59E5-s6Jq"
      }
    },
    {
      "cell_type": "code",
      "execution_count": 2,
      "metadata": {
        "colab": {
          "base_uri": "https://localhost:8080/",
          "height": 443
        },
        "id": "ltNoBL1SsQOV",
        "outputId": "3b436e10-9c1f-415b-ed55-e73b1e5a7f87"
      },
      "outputs": [
        {
          "output_type": "execute_result",
          "data": {
            "text/plain": [
              "      horas_estudio  asistencia participacion_parental acceso_a_recursos  \\\n",
              "0                23          84                   bajo           elevado   \n",
              "1                19          64                   bajo             medio   \n",
              "2                24          98                  medio              bajo   \n",
              "3                29          89                   bajo             medio   \n",
              "4                19          92                  medio              bajo   \n",
              "...             ...         ...                    ...               ...   \n",
              "6602             25          69                elevado             medio   \n",
              "6603             23          76                elevado             medio   \n",
              "6604             20          90                  medio              bajo   \n",
              "6605             10          86                elevado           elevado   \n",
              "6606             15          67                  medio              bajo   \n",
              "\n",
              "     actividades_extracurriculares  horas_suenio  calificaciones_previas  \\\n",
              "0                               no             7                      73   \n",
              "1                               no             8                      59   \n",
              "2                               si             7                      91   \n",
              "3                               si             8                      98   \n",
              "4                               si             6                      65   \n",
              "...                            ...           ...                     ...   \n",
              "6602                            no             7                      76   \n",
              "6603                            no             8                      81   \n",
              "6604                            si             6                      65   \n",
              "6605                            si             6                      91   \n",
              "6606                            si             9                      94   \n",
              "\n",
              "     nivel_motivacion acceso_internet  sesiones_tutoria ingreso_familiar  \\\n",
              "0                bajo              si                 0             bajo   \n",
              "1                bajo              si                 2            medio   \n",
              "2               medio              si                 2            medio   \n",
              "3               medio              si                 1            medio   \n",
              "4               medio              si                 3            medio   \n",
              "...               ...             ...               ...              ...   \n",
              "6602            medio              si                 1          elevado   \n",
              "6603            medio              si                 3             bajo   \n",
              "6604             bajo              si                 3             bajo   \n",
              "6605          elevado              si                 2             bajo   \n",
              "6606            medio              si                 0            medio   \n",
              "\n",
              "     calidad_profesorado tipo_escuela influencia_companieros  \\\n",
              "0                  medio      publico               positivo   \n",
              "1                   bajo      publico               negativo   \n",
              "2                   bajo      publico                neutral   \n",
              "3                   bajo      publico               negativo   \n",
              "4                elevado      publico                neutral   \n",
              "...                  ...          ...                    ...   \n",
              "6602               medio      publico               positivo   \n",
              "6603             elevado      publico               positivo   \n",
              "6604               medio      publico               negativo   \n",
              "6605               medio      privado               positivo   \n",
              "6606                bajo      publico               positivo   \n",
              "\n",
              "      actividad_fisica discapacidad_aprendizaje nivel_estudio_padres  \\\n",
              "0                    3                       no         preparatoria   \n",
              "1                    4                       no          universidad   \n",
              "2                    4                       no             posgrado   \n",
              "3                    4                       no         preparatoria   \n",
              "4                    4                       no          universidad   \n",
              "...                ...                      ...                  ...   \n",
              "6602                 2                       no         preparatoria   \n",
              "6603                 2                       no         preparatoria   \n",
              "6604                 2                       no             posgrado   \n",
              "6605                 3                       no         preparatoria   \n",
              "6606                 4                       no             posgrado   \n",
              "\n",
              "     distancia  genero  puntaje_examen  \n",
              "0      cercano  hombre              67  \n",
              "1     moderado   mujer              61  \n",
              "2      cercano  hombre              74  \n",
              "3     moderado  hombre              71  \n",
              "4      cercano   mujer              70  \n",
              "...        ...     ...             ...  \n",
              "6602   cercano   mujer              68  \n",
              "6603   cercano   mujer              69  \n",
              "6604   cercano   mujer              68  \n",
              "6605    lejano   mujer              68  \n",
              "6606   cercano  hombre              64  \n",
              "\n",
              "[6378 rows x 20 columns]"
            ],
            "text/html": [
              "\n",
              "  <div id=\"df-b4230032-0501-4415-aaeb-fbc1f6b1ab94\" class=\"colab-df-container\">\n",
              "    <div>\n",
              "<style scoped>\n",
              "    .dataframe tbody tr th:only-of-type {\n",
              "        vertical-align: middle;\n",
              "    }\n",
              "\n",
              "    .dataframe tbody tr th {\n",
              "        vertical-align: top;\n",
              "    }\n",
              "\n",
              "    .dataframe thead th {\n",
              "        text-align: right;\n",
              "    }\n",
              "</style>\n",
              "<table border=\"1\" class=\"dataframe\">\n",
              "  <thead>\n",
              "    <tr style=\"text-align: right;\">\n",
              "      <th></th>\n",
              "      <th>horas_estudio</th>\n",
              "      <th>asistencia</th>\n",
              "      <th>participacion_parental</th>\n",
              "      <th>acceso_a_recursos</th>\n",
              "      <th>actividades_extracurriculares</th>\n",
              "      <th>horas_suenio</th>\n",
              "      <th>calificaciones_previas</th>\n",
              "      <th>nivel_motivacion</th>\n",
              "      <th>acceso_internet</th>\n",
              "      <th>sesiones_tutoria</th>\n",
              "      <th>ingreso_familiar</th>\n",
              "      <th>calidad_profesorado</th>\n",
              "      <th>tipo_escuela</th>\n",
              "      <th>influencia_companieros</th>\n",
              "      <th>actividad_fisica</th>\n",
              "      <th>discapacidad_aprendizaje</th>\n",
              "      <th>nivel_estudio_padres</th>\n",
              "      <th>distancia</th>\n",
              "      <th>genero</th>\n",
              "      <th>puntaje_examen</th>\n",
              "    </tr>\n",
              "  </thead>\n",
              "  <tbody>\n",
              "    <tr>\n",
              "      <th>0</th>\n",
              "      <td>23</td>\n",
              "      <td>84</td>\n",
              "      <td>bajo</td>\n",
              "      <td>elevado</td>\n",
              "      <td>no</td>\n",
              "      <td>7</td>\n",
              "      <td>73</td>\n",
              "      <td>bajo</td>\n",
              "      <td>si</td>\n",
              "      <td>0</td>\n",
              "      <td>bajo</td>\n",
              "      <td>medio</td>\n",
              "      <td>publico</td>\n",
              "      <td>positivo</td>\n",
              "      <td>3</td>\n",
              "      <td>no</td>\n",
              "      <td>preparatoria</td>\n",
              "      <td>cercano</td>\n",
              "      <td>hombre</td>\n",
              "      <td>67</td>\n",
              "    </tr>\n",
              "    <tr>\n",
              "      <th>1</th>\n",
              "      <td>19</td>\n",
              "      <td>64</td>\n",
              "      <td>bajo</td>\n",
              "      <td>medio</td>\n",
              "      <td>no</td>\n",
              "      <td>8</td>\n",
              "      <td>59</td>\n",
              "      <td>bajo</td>\n",
              "      <td>si</td>\n",
              "      <td>2</td>\n",
              "      <td>medio</td>\n",
              "      <td>bajo</td>\n",
              "      <td>publico</td>\n",
              "      <td>negativo</td>\n",
              "      <td>4</td>\n",
              "      <td>no</td>\n",
              "      <td>universidad</td>\n",
              "      <td>moderado</td>\n",
              "      <td>mujer</td>\n",
              "      <td>61</td>\n",
              "    </tr>\n",
              "    <tr>\n",
              "      <th>2</th>\n",
              "      <td>24</td>\n",
              "      <td>98</td>\n",
              "      <td>medio</td>\n",
              "      <td>bajo</td>\n",
              "      <td>si</td>\n",
              "      <td>7</td>\n",
              "      <td>91</td>\n",
              "      <td>medio</td>\n",
              "      <td>si</td>\n",
              "      <td>2</td>\n",
              "      <td>medio</td>\n",
              "      <td>bajo</td>\n",
              "      <td>publico</td>\n",
              "      <td>neutral</td>\n",
              "      <td>4</td>\n",
              "      <td>no</td>\n",
              "      <td>posgrado</td>\n",
              "      <td>cercano</td>\n",
              "      <td>hombre</td>\n",
              "      <td>74</td>\n",
              "    </tr>\n",
              "    <tr>\n",
              "      <th>3</th>\n",
              "      <td>29</td>\n",
              "      <td>89</td>\n",
              "      <td>bajo</td>\n",
              "      <td>medio</td>\n",
              "      <td>si</td>\n",
              "      <td>8</td>\n",
              "      <td>98</td>\n",
              "      <td>medio</td>\n",
              "      <td>si</td>\n",
              "      <td>1</td>\n",
              "      <td>medio</td>\n",
              "      <td>bajo</td>\n",
              "      <td>publico</td>\n",
              "      <td>negativo</td>\n",
              "      <td>4</td>\n",
              "      <td>no</td>\n",
              "      <td>preparatoria</td>\n",
              "      <td>moderado</td>\n",
              "      <td>hombre</td>\n",
              "      <td>71</td>\n",
              "    </tr>\n",
              "    <tr>\n",
              "      <th>4</th>\n",
              "      <td>19</td>\n",
              "      <td>92</td>\n",
              "      <td>medio</td>\n",
              "      <td>bajo</td>\n",
              "      <td>si</td>\n",
              "      <td>6</td>\n",
              "      <td>65</td>\n",
              "      <td>medio</td>\n",
              "      <td>si</td>\n",
              "      <td>3</td>\n",
              "      <td>medio</td>\n",
              "      <td>elevado</td>\n",
              "      <td>publico</td>\n",
              "      <td>neutral</td>\n",
              "      <td>4</td>\n",
              "      <td>no</td>\n",
              "      <td>universidad</td>\n",
              "      <td>cercano</td>\n",
              "      <td>mujer</td>\n",
              "      <td>70</td>\n",
              "    </tr>\n",
              "    <tr>\n",
              "      <th>...</th>\n",
              "      <td>...</td>\n",
              "      <td>...</td>\n",
              "      <td>...</td>\n",
              "      <td>...</td>\n",
              "      <td>...</td>\n",
              "      <td>...</td>\n",
              "      <td>...</td>\n",
              "      <td>...</td>\n",
              "      <td>...</td>\n",
              "      <td>...</td>\n",
              "      <td>...</td>\n",
              "      <td>...</td>\n",
              "      <td>...</td>\n",
              "      <td>...</td>\n",
              "      <td>...</td>\n",
              "      <td>...</td>\n",
              "      <td>...</td>\n",
              "      <td>...</td>\n",
              "      <td>...</td>\n",
              "      <td>...</td>\n",
              "    </tr>\n",
              "    <tr>\n",
              "      <th>6602</th>\n",
              "      <td>25</td>\n",
              "      <td>69</td>\n",
              "      <td>elevado</td>\n",
              "      <td>medio</td>\n",
              "      <td>no</td>\n",
              "      <td>7</td>\n",
              "      <td>76</td>\n",
              "      <td>medio</td>\n",
              "      <td>si</td>\n",
              "      <td>1</td>\n",
              "      <td>elevado</td>\n",
              "      <td>medio</td>\n",
              "      <td>publico</td>\n",
              "      <td>positivo</td>\n",
              "      <td>2</td>\n",
              "      <td>no</td>\n",
              "      <td>preparatoria</td>\n",
              "      <td>cercano</td>\n",
              "      <td>mujer</td>\n",
              "      <td>68</td>\n",
              "    </tr>\n",
              "    <tr>\n",
              "      <th>6603</th>\n",
              "      <td>23</td>\n",
              "      <td>76</td>\n",
              "      <td>elevado</td>\n",
              "      <td>medio</td>\n",
              "      <td>no</td>\n",
              "      <td>8</td>\n",
              "      <td>81</td>\n",
              "      <td>medio</td>\n",
              "      <td>si</td>\n",
              "      <td>3</td>\n",
              "      <td>bajo</td>\n",
              "      <td>elevado</td>\n",
              "      <td>publico</td>\n",
              "      <td>positivo</td>\n",
              "      <td>2</td>\n",
              "      <td>no</td>\n",
              "      <td>preparatoria</td>\n",
              "      <td>cercano</td>\n",
              "      <td>mujer</td>\n",
              "      <td>69</td>\n",
              "    </tr>\n",
              "    <tr>\n",
              "      <th>6604</th>\n",
              "      <td>20</td>\n",
              "      <td>90</td>\n",
              "      <td>medio</td>\n",
              "      <td>bajo</td>\n",
              "      <td>si</td>\n",
              "      <td>6</td>\n",
              "      <td>65</td>\n",
              "      <td>bajo</td>\n",
              "      <td>si</td>\n",
              "      <td>3</td>\n",
              "      <td>bajo</td>\n",
              "      <td>medio</td>\n",
              "      <td>publico</td>\n",
              "      <td>negativo</td>\n",
              "      <td>2</td>\n",
              "      <td>no</td>\n",
              "      <td>posgrado</td>\n",
              "      <td>cercano</td>\n",
              "      <td>mujer</td>\n",
              "      <td>68</td>\n",
              "    </tr>\n",
              "    <tr>\n",
              "      <th>6605</th>\n",
              "      <td>10</td>\n",
              "      <td>86</td>\n",
              "      <td>elevado</td>\n",
              "      <td>elevado</td>\n",
              "      <td>si</td>\n",
              "      <td>6</td>\n",
              "      <td>91</td>\n",
              "      <td>elevado</td>\n",
              "      <td>si</td>\n",
              "      <td>2</td>\n",
              "      <td>bajo</td>\n",
              "      <td>medio</td>\n",
              "      <td>privado</td>\n",
              "      <td>positivo</td>\n",
              "      <td>3</td>\n",
              "      <td>no</td>\n",
              "      <td>preparatoria</td>\n",
              "      <td>lejano</td>\n",
              "      <td>mujer</td>\n",
              "      <td>68</td>\n",
              "    </tr>\n",
              "    <tr>\n",
              "      <th>6606</th>\n",
              "      <td>15</td>\n",
              "      <td>67</td>\n",
              "      <td>medio</td>\n",
              "      <td>bajo</td>\n",
              "      <td>si</td>\n",
              "      <td>9</td>\n",
              "      <td>94</td>\n",
              "      <td>medio</td>\n",
              "      <td>si</td>\n",
              "      <td>0</td>\n",
              "      <td>medio</td>\n",
              "      <td>bajo</td>\n",
              "      <td>publico</td>\n",
              "      <td>positivo</td>\n",
              "      <td>4</td>\n",
              "      <td>no</td>\n",
              "      <td>posgrado</td>\n",
              "      <td>cercano</td>\n",
              "      <td>hombre</td>\n",
              "      <td>64</td>\n",
              "    </tr>\n",
              "  </tbody>\n",
              "</table>\n",
              "<p>6378 rows × 20 columns</p>\n",
              "</div>\n",
              "    <div class=\"colab-df-buttons\">\n",
              "\n",
              "  <div class=\"colab-df-container\">\n",
              "    <button class=\"colab-df-convert\" onclick=\"convertToInteractive('df-b4230032-0501-4415-aaeb-fbc1f6b1ab94')\"\n",
              "            title=\"Convert this dataframe to an interactive table.\"\n",
              "            style=\"display:none;\">\n",
              "\n",
              "  <svg xmlns=\"http://www.w3.org/2000/svg\" height=\"24px\" viewBox=\"0 -960 960 960\">\n",
              "    <path d=\"M120-120v-720h720v720H120Zm60-500h600v-160H180v160Zm220 220h160v-160H400v160Zm0 220h160v-160H400v160ZM180-400h160v-160H180v160Zm440 0h160v-160H620v160ZM180-180h160v-160H180v160Zm440 0h160v-160H620v160Z\"/>\n",
              "  </svg>\n",
              "    </button>\n",
              "\n",
              "  <style>\n",
              "    .colab-df-container {\n",
              "      display:flex;\n",
              "      gap: 12px;\n",
              "    }\n",
              "\n",
              "    .colab-df-convert {\n",
              "      background-color: #E8F0FE;\n",
              "      border: none;\n",
              "      border-radius: 50%;\n",
              "      cursor: pointer;\n",
              "      display: none;\n",
              "      fill: #1967D2;\n",
              "      height: 32px;\n",
              "      padding: 0 0 0 0;\n",
              "      width: 32px;\n",
              "    }\n",
              "\n",
              "    .colab-df-convert:hover {\n",
              "      background-color: #E2EBFA;\n",
              "      box-shadow: 0px 1px 2px rgba(60, 64, 67, 0.3), 0px 1px 3px 1px rgba(60, 64, 67, 0.15);\n",
              "      fill: #174EA6;\n",
              "    }\n",
              "\n",
              "    .colab-df-buttons div {\n",
              "      margin-bottom: 4px;\n",
              "    }\n",
              "\n",
              "    [theme=dark] .colab-df-convert {\n",
              "      background-color: #3B4455;\n",
              "      fill: #D2E3FC;\n",
              "    }\n",
              "\n",
              "    [theme=dark] .colab-df-convert:hover {\n",
              "      background-color: #434B5C;\n",
              "      box-shadow: 0px 1px 3px 1px rgba(0, 0, 0, 0.15);\n",
              "      filter: drop-shadow(0px 1px 2px rgba(0, 0, 0, 0.3));\n",
              "      fill: #FFFFFF;\n",
              "    }\n",
              "  </style>\n",
              "\n",
              "    <script>\n",
              "      const buttonEl =\n",
              "        document.querySelector('#df-b4230032-0501-4415-aaeb-fbc1f6b1ab94 button.colab-df-convert');\n",
              "      buttonEl.style.display =\n",
              "        google.colab.kernel.accessAllowed ? 'block' : 'none';\n",
              "\n",
              "      async function convertToInteractive(key) {\n",
              "        const element = document.querySelector('#df-b4230032-0501-4415-aaeb-fbc1f6b1ab94');\n",
              "        const dataTable =\n",
              "          await google.colab.kernel.invokeFunction('convertToInteractive',\n",
              "                                                    [key], {});\n",
              "        if (!dataTable) return;\n",
              "\n",
              "        const docLinkHtml = 'Like what you see? Visit the ' +\n",
              "          '<a target=\"_blank\" href=https://colab.research.google.com/notebooks/data_table.ipynb>data table notebook</a>'\n",
              "          + ' to learn more about interactive tables.';\n",
              "        element.innerHTML = '';\n",
              "        dataTable['output_type'] = 'display_data';\n",
              "        await google.colab.output.renderOutput(dataTable, element);\n",
              "        const docLink = document.createElement('div');\n",
              "        docLink.innerHTML = docLinkHtml;\n",
              "        element.appendChild(docLink);\n",
              "      }\n",
              "    </script>\n",
              "  </div>\n",
              "\n",
              "\n",
              "<div id=\"df-ff51b050-f87f-4afc-a3fe-8dfcef5b6f2a\">\n",
              "  <button class=\"colab-df-quickchart\" onclick=\"quickchart('df-ff51b050-f87f-4afc-a3fe-8dfcef5b6f2a')\"\n",
              "            title=\"Suggest charts\"\n",
              "            style=\"display:none;\">\n",
              "\n",
              "<svg xmlns=\"http://www.w3.org/2000/svg\" height=\"24px\"viewBox=\"0 0 24 24\"\n",
              "     width=\"24px\">\n",
              "    <g>\n",
              "        <path d=\"M19 3H5c-1.1 0-2 .9-2 2v14c0 1.1.9 2 2 2h14c1.1 0 2-.9 2-2V5c0-1.1-.9-2-2-2zM9 17H7v-7h2v7zm4 0h-2V7h2v10zm4 0h-2v-4h2v4z\"/>\n",
              "    </g>\n",
              "</svg>\n",
              "  </button>\n",
              "\n",
              "<style>\n",
              "  .colab-df-quickchart {\n",
              "      --bg-color: #E8F0FE;\n",
              "      --fill-color: #1967D2;\n",
              "      --hover-bg-color: #E2EBFA;\n",
              "      --hover-fill-color: #174EA6;\n",
              "      --disabled-fill-color: #AAA;\n",
              "      --disabled-bg-color: #DDD;\n",
              "  }\n",
              "\n",
              "  [theme=dark] .colab-df-quickchart {\n",
              "      --bg-color: #3B4455;\n",
              "      --fill-color: #D2E3FC;\n",
              "      --hover-bg-color: #434B5C;\n",
              "      --hover-fill-color: #FFFFFF;\n",
              "      --disabled-bg-color: #3B4455;\n",
              "      --disabled-fill-color: #666;\n",
              "  }\n",
              "\n",
              "  .colab-df-quickchart {\n",
              "    background-color: var(--bg-color);\n",
              "    border: none;\n",
              "    border-radius: 50%;\n",
              "    cursor: pointer;\n",
              "    display: none;\n",
              "    fill: var(--fill-color);\n",
              "    height: 32px;\n",
              "    padding: 0;\n",
              "    width: 32px;\n",
              "  }\n",
              "\n",
              "  .colab-df-quickchart:hover {\n",
              "    background-color: var(--hover-bg-color);\n",
              "    box-shadow: 0 1px 2px rgba(60, 64, 67, 0.3), 0 1px 3px 1px rgba(60, 64, 67, 0.15);\n",
              "    fill: var(--button-hover-fill-color);\n",
              "  }\n",
              "\n",
              "  .colab-df-quickchart-complete:disabled,\n",
              "  .colab-df-quickchart-complete:disabled:hover {\n",
              "    background-color: var(--disabled-bg-color);\n",
              "    fill: var(--disabled-fill-color);\n",
              "    box-shadow: none;\n",
              "  }\n",
              "\n",
              "  .colab-df-spinner {\n",
              "    border: 2px solid var(--fill-color);\n",
              "    border-color: transparent;\n",
              "    border-bottom-color: var(--fill-color);\n",
              "    animation:\n",
              "      spin 1s steps(1) infinite;\n",
              "  }\n",
              "\n",
              "  @keyframes spin {\n",
              "    0% {\n",
              "      border-color: transparent;\n",
              "      border-bottom-color: var(--fill-color);\n",
              "      border-left-color: var(--fill-color);\n",
              "    }\n",
              "    20% {\n",
              "      border-color: transparent;\n",
              "      border-left-color: var(--fill-color);\n",
              "      border-top-color: var(--fill-color);\n",
              "    }\n",
              "    30% {\n",
              "      border-color: transparent;\n",
              "      border-left-color: var(--fill-color);\n",
              "      border-top-color: var(--fill-color);\n",
              "      border-right-color: var(--fill-color);\n",
              "    }\n",
              "    40% {\n",
              "      border-color: transparent;\n",
              "      border-right-color: var(--fill-color);\n",
              "      border-top-color: var(--fill-color);\n",
              "    }\n",
              "    60% {\n",
              "      border-color: transparent;\n",
              "      border-right-color: var(--fill-color);\n",
              "    }\n",
              "    80% {\n",
              "      border-color: transparent;\n",
              "      border-right-color: var(--fill-color);\n",
              "      border-bottom-color: var(--fill-color);\n",
              "    }\n",
              "    90% {\n",
              "      border-color: transparent;\n",
              "      border-bottom-color: var(--fill-color);\n",
              "    }\n",
              "  }\n",
              "</style>\n",
              "\n",
              "  <script>\n",
              "    async function quickchart(key) {\n",
              "      const quickchartButtonEl =\n",
              "        document.querySelector('#' + key + ' button');\n",
              "      quickchartButtonEl.disabled = true;  // To prevent multiple clicks.\n",
              "      quickchartButtonEl.classList.add('colab-df-spinner');\n",
              "      try {\n",
              "        const charts = await google.colab.kernel.invokeFunction(\n",
              "            'suggestCharts', [key], {});\n",
              "      } catch (error) {\n",
              "        console.error('Error during call to suggestCharts:', error);\n",
              "      }\n",
              "      quickchartButtonEl.classList.remove('colab-df-spinner');\n",
              "      quickchartButtonEl.classList.add('colab-df-quickchart-complete');\n",
              "    }\n",
              "    (() => {\n",
              "      let quickchartButtonEl =\n",
              "        document.querySelector('#df-ff51b050-f87f-4afc-a3fe-8dfcef5b6f2a button');\n",
              "      quickchartButtonEl.style.display =\n",
              "        google.colab.kernel.accessAllowed ? 'block' : 'none';\n",
              "    })();\n",
              "  </script>\n",
              "</div>\n",
              "\n",
              "  <div id=\"id_c8fbd6f0-049b-47f7-811f-e8caec7e37ae\">\n",
              "    <style>\n",
              "      .colab-df-generate {\n",
              "        background-color: #E8F0FE;\n",
              "        border: none;\n",
              "        border-radius: 50%;\n",
              "        cursor: pointer;\n",
              "        display: none;\n",
              "        fill: #1967D2;\n",
              "        height: 32px;\n",
              "        padding: 0 0 0 0;\n",
              "        width: 32px;\n",
              "      }\n",
              "\n",
              "      .colab-df-generate:hover {\n",
              "        background-color: #E2EBFA;\n",
              "        box-shadow: 0px 1px 2px rgba(60, 64, 67, 0.3), 0px 1px 3px 1px rgba(60, 64, 67, 0.15);\n",
              "        fill: #174EA6;\n",
              "      }\n",
              "\n",
              "      [theme=dark] .colab-df-generate {\n",
              "        background-color: #3B4455;\n",
              "        fill: #D2E3FC;\n",
              "      }\n",
              "\n",
              "      [theme=dark] .colab-df-generate:hover {\n",
              "        background-color: #434B5C;\n",
              "        box-shadow: 0px 1px 3px 1px rgba(0, 0, 0, 0.15);\n",
              "        filter: drop-shadow(0px 1px 2px rgba(0, 0, 0, 0.3));\n",
              "        fill: #FFFFFF;\n",
              "      }\n",
              "    </style>\n",
              "    <button class=\"colab-df-generate\" onclick=\"generateWithVariable('df')\"\n",
              "            title=\"Generate code using this dataframe.\"\n",
              "            style=\"display:none;\">\n",
              "\n",
              "  <svg xmlns=\"http://www.w3.org/2000/svg\" height=\"24px\"viewBox=\"0 0 24 24\"\n",
              "       width=\"24px\">\n",
              "    <path d=\"M7,19H8.4L18.45,9,17,7.55,7,17.6ZM5,21V16.75L18.45,3.32a2,2,0,0,1,2.83,0l1.4,1.43a1.91,1.91,0,0,1,.58,1.4,1.91,1.91,0,0,1-.58,1.4L9.25,21ZM18.45,9,17,7.55Zm-12,3A5.31,5.31,0,0,0,4.9,8.1,5.31,5.31,0,0,0,1,6.5,5.31,5.31,0,0,0,4.9,4.9,5.31,5.31,0,0,0,6.5,1,5.31,5.31,0,0,0,8.1,4.9,5.31,5.31,0,0,0,12,6.5,5.46,5.46,0,0,0,6.5,12Z\"/>\n",
              "  </svg>\n",
              "    </button>\n",
              "    <script>\n",
              "      (() => {\n",
              "      const buttonEl =\n",
              "        document.querySelector('#id_c8fbd6f0-049b-47f7-811f-e8caec7e37ae button.colab-df-generate');\n",
              "      buttonEl.style.display =\n",
              "        google.colab.kernel.accessAllowed ? 'block' : 'none';\n",
              "\n",
              "      buttonEl.onclick = () => {\n",
              "        google.colab.notebook.generateWithVariable('df');\n",
              "      }\n",
              "      })();\n",
              "    </script>\n",
              "  </div>\n",
              "\n",
              "    </div>\n",
              "  </div>\n"
            ],
            "application/vnd.google.colaboratory.intrinsic+json": {
              "type": "dataframe",
              "variable_name": "df",
              "summary": "{\n  \"name\": \"df\",\n  \"rows\": 6378,\n  \"fields\": [\n    {\n      \"column\": \"horas_estudio\",\n      \"properties\": {\n        \"dtype\": \"number\",\n        \"std\": 5,\n        \"min\": 1,\n        \"max\": 44,\n        \"num_unique_values\": 41,\n        \"samples\": [\n          27,\n          20,\n          10\n        ],\n        \"semantic_type\": \"\",\n        \"description\": \"\"\n      }\n    },\n    {\n      \"column\": \"asistencia\",\n      \"properties\": {\n        \"dtype\": \"number\",\n        \"std\": 11,\n        \"min\": 60,\n        \"max\": 100,\n        \"num_unique_values\": 41,\n        \"samples\": [\n          72,\n          60,\n          80\n        ],\n        \"semantic_type\": \"\",\n        \"description\": \"\"\n      }\n    },\n    {\n      \"column\": \"participacion_parental\",\n      \"properties\": {\n        \"dtype\": \"category\",\n        \"num_unique_values\": 3,\n        \"samples\": [\n          \"bajo\",\n          \"medio\",\n          \"elevado\"\n        ],\n        \"semantic_type\": \"\",\n        \"description\": \"\"\n      }\n    },\n    {\n      \"column\": \"acceso_a_recursos\",\n      \"properties\": {\n        \"dtype\": \"category\",\n        \"num_unique_values\": 3,\n        \"samples\": [\n          \"elevado\",\n          \"medio\",\n          \"bajo\"\n        ],\n        \"semantic_type\": \"\",\n        \"description\": \"\"\n      }\n    },\n    {\n      \"column\": \"actividades_extracurriculares\",\n      \"properties\": {\n        \"dtype\": \"category\",\n        \"num_unique_values\": 2,\n        \"samples\": [\n          \"si\",\n          \"no\"\n        ],\n        \"semantic_type\": \"\",\n        \"description\": \"\"\n      }\n    },\n    {\n      \"column\": \"horas_suenio\",\n      \"properties\": {\n        \"dtype\": \"number\",\n        \"std\": 1,\n        \"min\": 4,\n        \"max\": 10,\n        \"num_unique_values\": 7,\n        \"samples\": [\n          7,\n          8\n        ],\n        \"semantic_type\": \"\",\n        \"description\": \"\"\n      }\n    },\n    {\n      \"column\": \"calificaciones_previas\",\n      \"properties\": {\n        \"dtype\": \"number\",\n        \"std\": 14,\n        \"min\": 50,\n        \"max\": 100,\n        \"num_unique_values\": 51,\n        \"samples\": [\n          64,\n          62\n        ],\n        \"semantic_type\": \"\",\n        \"description\": \"\"\n      }\n    },\n    {\n      \"column\": \"nivel_motivacion\",\n      \"properties\": {\n        \"dtype\": \"category\",\n        \"num_unique_values\": 3,\n        \"samples\": [\n          \"bajo\",\n          \"medio\"\n        ],\n        \"semantic_type\": \"\",\n        \"description\": \"\"\n      }\n    },\n    {\n      \"column\": \"acceso_internet\",\n      \"properties\": {\n        \"dtype\": \"category\",\n        \"num_unique_values\": 2,\n        \"samples\": [\n          \"no\",\n          \"si\"\n        ],\n        \"semantic_type\": \"\",\n        \"description\": \"\"\n      }\n    },\n    {\n      \"column\": \"sesiones_tutoria\",\n      \"properties\": {\n        \"dtype\": \"number\",\n        \"std\": 1,\n        \"min\": 0,\n        \"max\": 8,\n        \"num_unique_values\": 9,\n        \"samples\": [\n          7,\n          2\n        ],\n        \"semantic_type\": \"\",\n        \"description\": \"\"\n      }\n    },\n    {\n      \"column\": \"ingreso_familiar\",\n      \"properties\": {\n        \"dtype\": \"category\",\n        \"num_unique_values\": 3,\n        \"samples\": [\n          \"bajo\",\n          \"medio\"\n        ],\n        \"semantic_type\": \"\",\n        \"description\": \"\"\n      }\n    },\n    {\n      \"column\": \"calidad_profesorado\",\n      \"properties\": {\n        \"dtype\": \"category\",\n        \"num_unique_values\": 3,\n        \"samples\": [\n          \"medio\",\n          \"bajo\"\n        ],\n        \"semantic_type\": \"\",\n        \"description\": \"\"\n      }\n    },\n    {\n      \"column\": \"tipo_escuela\",\n      \"properties\": {\n        \"dtype\": \"category\",\n        \"num_unique_values\": 2,\n        \"samples\": [\n          \"privado\",\n          \"publico\"\n        ],\n        \"semantic_type\": \"\",\n        \"description\": \"\"\n      }\n    },\n    {\n      \"column\": \"influencia_companieros\",\n      \"properties\": {\n        \"dtype\": \"category\",\n        \"num_unique_values\": 3,\n        \"samples\": [\n          \"positivo\",\n          \"negativo\"\n        ],\n        \"semantic_type\": \"\",\n        \"description\": \"\"\n      }\n    },\n    {\n      \"column\": \"actividad_fisica\",\n      \"properties\": {\n        \"dtype\": \"number\",\n        \"std\": 1,\n        \"min\": 0,\n        \"max\": 6,\n        \"num_unique_values\": 7,\n        \"samples\": [\n          3,\n          4\n        ],\n        \"semantic_type\": \"\",\n        \"description\": \"\"\n      }\n    },\n    {\n      \"column\": \"discapacidad_aprendizaje\",\n      \"properties\": {\n        \"dtype\": \"category\",\n        \"num_unique_values\": 2,\n        \"samples\": [\n          \"si\",\n          \"no\"\n        ],\n        \"semantic_type\": \"\",\n        \"description\": \"\"\n      }\n    },\n    {\n      \"column\": \"nivel_estudio_padres\",\n      \"properties\": {\n        \"dtype\": \"category\",\n        \"num_unique_values\": 3,\n        \"samples\": [\n          \"preparatoria\",\n          \"universidad\"\n        ],\n        \"semantic_type\": \"\",\n        \"description\": \"\"\n      }\n    },\n    {\n      \"column\": \"distancia\",\n      \"properties\": {\n        \"dtype\": \"category\",\n        \"num_unique_values\": 3,\n        \"samples\": [\n          \"cercano\",\n          \"moderado\"\n        ],\n        \"semantic_type\": \"\",\n        \"description\": \"\"\n      }\n    },\n    {\n      \"column\": \"genero\",\n      \"properties\": {\n        \"dtype\": \"category\",\n        \"num_unique_values\": 2,\n        \"samples\": [\n          \"mujer\",\n          \"hombre\"\n        ],\n        \"semantic_type\": \"\",\n        \"description\": \"\"\n      }\n    },\n    {\n      \"column\": \"puntaje_examen\",\n      \"properties\": {\n        \"dtype\": \"number\",\n        \"std\": 3,\n        \"min\": 55,\n        \"max\": 101,\n        \"num_unique_values\": 45,\n        \"samples\": [\n          96,\n          84\n        ],\n        \"semantic_type\": \"\",\n        \"description\": \"\"\n      }\n    }\n  ]\n}"
            }
          },
          "metadata": {},
          "execution_count": 2
        }
      ],
      "source": [
        "import pandas as pd\n",
        "df= pd.read_csv(\"https://raw.githubusercontent.com/Josselyn04/base-de-datos-pu4/refs/heads/main/dataset.1%20(1).csv\")\n",
        "df.dropna(inplace=True)\n",
        "df"
      ]
    },
    {
      "cell_type": "code",
      "source": [
        "df['participacion_parental'].unique()"
      ],
      "metadata": {
        "colab": {
          "base_uri": "https://localhost:8080/"
        },
        "id": "vL3RrPJReGQ0",
        "outputId": "1de4462d-820a-4b78-ace7-ff2a70dadbe4"
      },
      "execution_count": 3,
      "outputs": [
        {
          "output_type": "execute_result",
          "data": {
            "text/plain": [
              "array(['bajo', 'medio', 'elevado'], dtype=object)"
            ]
          },
          "metadata": {},
          "execution_count": 3
        }
      ]
    },
    {
      "cell_type": "code",
      "source": [
        "# Si todos los grupos tienen una distribución normal\n",
        "import scipy.stats as stats\n",
        "\n",
        "nivel_de_significancia = 0.05\n",
        "\n",
        "# Realizar ANOVA\n",
        "anova_result = stats.f_oneway(\n",
        "    df[df['participacion_parental'] == 'bajo']['puntaje_examen'],\n",
        "    df[df['participacion_parental'] == 'medio']['puntaje_examen'],\n",
        "    df[df['participacion_parental'] == 'elevado']['puntaje_examen'],\n",
        ")\n",
        "\n",
        "# Interpretar los resultados\n",
        "print(\"Resultados del ANOVA:\")\n",
        "print(f\"F-Estadístico: {anova_result.statistic:.2f}\")\n",
        "print(f\"Valor p: {anova_result.pvalue:.5f}\\n\")\n",
        "\n",
        "if anova_result.pvalue < nivel_de_significancia:\n",
        "    print(\"Conclusión: Hay diferencias significativas entre al menos dos tratamientos.\")\n",
        "else:\n",
        "    print(\"Conclusión: No hay diferencias significativas entre los tratamientos.\")"
      ],
      "metadata": {
        "id": "IYxYs8WhusuX",
        "colab": {
          "base_uri": "https://localhost:8080/"
        },
        "outputId": "165da9de-d0e8-4eae-9313-d6f3235c2843"
      },
      "execution_count": 4,
      "outputs": [
        {
          "output_type": "stream",
          "name": "stdout",
          "text": [
            "Resultados del ANOVA:\n",
            "F-Estadístico: 80.46\n",
            "Valor p: 0.00000\n",
            "\n",
            "Conclusión: Hay diferencias significativas entre al menos dos tratamientos.\n"
          ]
        }
      ]
    },
    {
      "cell_type": "markdown",
      "source": [
        "Se usa la prueba ANOVA la cual muestra que hay una diferencia significativa en la participacion parental entre al menos dos prubas.\n"
      ],
      "metadata": {
        "id": "PL6tZsgkIhSq"
      }
    },
    {
      "cell_type": "code",
      "source": [
        "# Si todos los grupos tienen una distribución normal.\n",
        "# Si no cumplen con la normalidad, toman el resultado de la prueba de Kruskal\n",
        "#     y pueden usar los gráficos de Tukey para tomar una decisión (ignorando la tabla).\n",
        "#.    Estrictamente hablando, tendrían que realizar la prueba de Dunn.\n",
        "from statsmodels.stats.multicomp import pairwise_tukeyhsd\n",
        "import matplotlib.pyplot as plt\n",
        "\n",
        "nivel_de_significancia = 0.05\n",
        "\n",
        "# Prueba de Tukey\n",
        "tukey = pairwise_tukeyhsd(endog=df['puntaje_examen'], groups=df['participacion_parental'], alpha=nivel_de_significancia)\n",
        "\n",
        "# Mostrar los resultados\n",
        "print(tukey)\n",
        "\n",
        "# Gráfico de las diferencias entre grupos\n",
        "tukey.plot_simultaneous(ylabel=\"Grupos\", xlabel=\"Medias\")\n",
        "\n",
        "plt.gca().spines['right'].set_visible(False) # derecha\n",
        "plt.gca().spines['top'].set_visible(False)   # superior\n",
        "plt.title(\"Múltiples comparaciones entre todos los pares (Tukey)\")"
      ],
      "metadata": {
        "colab": {
          "base_uri": "https://localhost:8080/",
          "height": 721
        },
        "id": "yR3KoJet5nse",
        "outputId": "6523e21a-3a3c-42a0-9888-9e9d1e26d3a9"
      },
      "execution_count": 5,
      "outputs": [
        {
          "output_type": "stream",
          "name": "stdout",
          "text": [
            " Multiple Comparison of Means - Tukey HSD, FWER=0.05 \n",
            "=====================================================\n",
            " group1  group2 meandiff p-adj  lower   upper  reject\n",
            "-----------------------------------------------------\n",
            "   bajo elevado   1.7334   0.0  1.4042  2.0626   True\n",
            "   bajo   medio   0.7344   0.0  0.4363  1.0326   True\n",
            "elevado   medio   -0.999   0.0 -1.2636 -0.7344   True\n",
            "-----------------------------------------------------\n"
          ]
        },
        {
          "output_type": "execute_result",
          "data": {
            "text/plain": [
              "Text(0.5, 1.0, 'Múltiples comparaciones entre todos los pares (Tukey)')"
            ]
          },
          "metadata": {},
          "execution_count": 5
        },
        {
          "output_type": "display_data",
          "data": {
            "text/plain": [
              "<Figure size 1000x600 with 1 Axes>"
            ],
            "image/png": "[encoded data removed]"
          },
          "metadata": {}
        }
      ]
    },
    {
      "cell_type": "markdown",
      "source": [
        "La prueba Tukey para la participacion parental muestra que hay diferencia en las calificaciones de los examenes de los alumnos de los que reciben un apoyo,  dependiendo si este es bajo, alto y medio."
      ],
      "metadata": {
        "id": "d6QsVU-MJxu0"
      }
    },
    {
      "cell_type": "code",
      "source": [
        "df['horas_estudio'].unique()"
      ],
      "metadata": {
        "colab": {
          "base_uri": "https://localhost:8080/"
        },
        "id": "bu2CBdGJeWJu",
        "outputId": "e844c15e-f4a0-4072-e1f5-04413137ce49"
      },
      "execution_count": 6,
      "outputs": [
        {
          "output_type": "execute_result",
          "data": {
            "text/plain": [
              "array([23, 19, 24, 29, 25, 17, 21,  9, 10, 14, 22, 15, 12, 20, 11, 13, 16,\n",
              "       18, 31,  8, 26, 28,  4, 35, 27, 33, 36, 43, 34,  1, 30,  7, 32,  6,\n",
              "       38,  5,  3, 39,  2, 37, 44])"
            ]
          },
          "metadata": {},
          "execution_count": 6
        }
      ]
    },
    {
      "cell_type": "code",
      "source": [
        "df['acceso_a_recursos'].unique()"
      ],
      "metadata": {
        "colab": {
          "base_uri": "https://localhost:8080/"
        },
        "id": "XgdiG4gIfbSI",
        "outputId": "77b1f530-46d7-471e-f5c8-364805e9fd7e"
      },
      "execution_count": 7,
      "outputs": [
        {
          "output_type": "execute_result",
          "data": {
            "text/plain": [
              "array(['elevado', 'medio', 'bajo'], dtype=object)"
            ]
          },
          "metadata": {},
          "execution_count": 7
        }
      ]
    },
    {
      "cell_type": "code",
      "source": [
        "# Si todos los grupos tienen una distribución normal\n",
        "import scipy.stats as stats\n",
        "\n",
        "nivel_de_significancia = 0.05\n",
        "\n",
        "# Realizar ANOVA\n",
        "anova_result = stats.f_oneway(\n",
        "    df[df['acceso_a_recursos'] == 'bajo']['puntaje_examen'],\n",
        "    df[df['acceso_a_recursos'] == 'medio']['puntaje_examen'],\n",
        "    df[df['acceso_a_recursos'] == 'elevado']['puntaje_examen'],\n",
        ")\n",
        "\n",
        "# Interpretar los resultados\n",
        "print(\"Resultados del ANOVA:\")\n",
        "print(f\"F-Estadístico: {anova_result.statistic:.2f}\")\n",
        "print(f\"Valor p: {anova_result.pvalue:.5f}\\n\")\n",
        "\n",
        "if anova_result.pvalue < nivel_de_significancia:\n",
        "    print(\"Conclusión: Hay diferencias significativas entre al menos dos tratamientos.\")\n",
        "else:\n",
        "    print(\"Conclusión: No hay diferencias significativas entre los tratamientos.\")"
      ],
      "metadata": {
        "colab": {
          "base_uri": "https://localhost:8080/"
        },
        "id": "-ky5Cis4__pB",
        "outputId": "6128ce62-b89e-44b1-ddc3-47fa2340992b"
      },
      "execution_count": 8,
      "outputs": [
        {
          "output_type": "stream",
          "name": "stdout",
          "text": [
            "Resultados del ANOVA:\n",
            "F-Estadístico: 77.74\n",
            "Valor p: 0.00000\n",
            "\n",
            "Conclusión: Hay diferencias significativas entre al menos dos tratamientos.\n"
          ]
        }
      ]
    },
    {
      "cell_type": "markdown",
      "source": [
        "La prueba ANOVA aplicada al accseso de recursos de los padres muestra que si hay diferencia entre al menos dos tratamientos."
      ],
      "metadata": {
        "id": "96y5nTgJKvy1"
      }
    },
    {
      "cell_type": "code",
      "source": [
        "from statsmodels.stats.multicomp import pairwise_tukeyhsd\n",
        "import matplotlib.pyplot as plt\n",
        "\n",
        "nivel_de_significancia = 0.05\n",
        "\n",
        "# Prueba de Tukey\n",
        "tukey = pairwise_tukeyhsd(endog=df['puntaje_examen'], groups=df['acceso_a_recursos'], alpha=nivel_de_significancia)\n",
        "\n",
        "# Mostrar los resultados\n",
        "print(tukey)\n",
        "\n",
        "# Gráfico de las diferencias entre grupos\n",
        "tukey.plot_simultaneous(ylabel=\"Grupos\", xlabel=\"Medias\")\n",
        "\n",
        "plt.gca().spines['right'].set_visible(False) # derecha\n",
        "plt.gca().spines['top'].set_visible(False)   # superior\n",
        "plt.title(\"Múltiples comparaciones entre todos los pares (Tukey)\")"
      ],
      "metadata": {
        "colab": {
          "base_uri": "https://localhost:8080/",
          "height": 721
        },
        "id": "8TgrChu3ApwK",
        "outputId": "bf4e4aa2-7c73-4ba7-da55-0716f9abf5cc"
      },
      "execution_count": 9,
      "outputs": [
        {
          "output_type": "stream",
          "name": "stdout",
          "text": [
            " Multiple Comparison of Means - Tukey HSD, FWER=0.05 \n",
            "=====================================================\n",
            " group1  group2 meandiff p-adj  lower   upper  reject\n",
            "-----------------------------------------------------\n",
            "   bajo elevado   1.4212   0.0  1.1539  1.6885   True\n",
            "   bajo   medio   0.6001   0.0  0.3157  0.8845   True\n",
            "elevado   medio  -0.8211   0.0 -1.1309 -0.5113   True\n",
            "-----------------------------------------------------\n"
          ]
        },
        {
          "output_type": "execute_result",
          "data": {
            "text/plain": [
              "Text(0.5, 1.0, 'Múltiples comparaciones entre todos los pares (Tukey)')"
            ]
          },
          "metadata": {},
          "execution_count": 9
        },
        {
          "output_type": "display_data",
          "data": {
            "text/plain": [
              "<Figure size 1000x600 with 1 Axes>"
            ],
            "image/png": "[encoded data removed]"
          },
          "metadata": {}
        }
      ]
    },
    {
      "cell_type": "markdown",
      "source": [
        "La prueba Tukey muestra que si hay diferencia en el accseso que tienen los alumnos, dependiendo si es elevado, medio o bajo, diferencias desde un punto hasta los casi dos puntos."
      ],
      "metadata": {
        "id": "DPLduqu-LmTN"
      }
    },
    {
      "cell_type": "code",
      "source": [
        "df['actividades_extracurriculares'].unique()"
      ],
      "metadata": {
        "colab": {
          "base_uri": "https://localhost:8080/"
        },
        "id": "HhXgYhEKfl_4",
        "outputId": "68a4fc14-ef8e-481d-d0f0-63f3db5845af"
      },
      "execution_count": 10,
      "outputs": [
        {
          "output_type": "execute_result",
          "data": {
            "text/plain": [
              "array(['no', 'si'], dtype=object)"
            ]
          },
          "metadata": {},
          "execution_count": 10
        }
      ]
    },
    {
      "cell_type": "code",
      "source": [
        "from statsmodels.stats.multicomp import pairwise_tukeyhsd\n",
        "import matplotlib.pyplot as plt\n",
        "\n",
        "nivel_de_significancia = 0.05\n",
        "\n",
        "# Prueba de Tukey\n",
        "tukey = pairwise_tukeyhsd(endog=df['puntaje_examen'], groups=df['actividades_extracurriculares'], alpha=nivel_de_significancia)\n",
        "\n",
        "# Mostrar los resultados\n",
        "print(tukey)\n",
        "\n",
        "# Gráfico de las diferencias entre grupos\n",
        "tukey.plot_simultaneous(ylabel=\"Grupos\", xlabel=\"Medias\")\n",
        "\n",
        "plt.gca().spines['right'].set_visible(False) # derecha\n",
        "plt.gca().spines['top'].set_visible(False)   # superior\n",
        "plt.title(\"Múltiples comparaciones entre todos los pares (Tukey)\")"
      ],
      "metadata": {
        "colab": {
          "base_uri": "https://localhost:8080/",
          "height": 686
        },
        "id": "bBOQTfgkBleT",
        "outputId": "eeb618a5-ac4c-4e1a-cca5-1a3c00d58894"
      },
      "execution_count": 11,
      "outputs": [
        {
          "output_type": "stream",
          "name": "stdout",
          "text": [
            "Multiple Comparison of Means - Tukey HSD, FWER=0.05\n",
            "=================================================\n",
            "group1 group2 meandiff p-adj lower  upper  reject\n",
            "-------------------------------------------------\n",
            "    no     si   0.5032   0.0 0.3077 0.6987   True\n",
            "-------------------------------------------------\n"
          ]
        },
        {
          "output_type": "execute_result",
          "data": {
            "text/plain": [
              "Text(0.5, 1.0, 'Múltiples comparaciones entre todos los pares (Tukey)')"
            ]
          },
          "metadata": {},
          "execution_count": 11
        },
        {
          "output_type": "display_data",
          "data": {
            "text/plain": [
              "<Figure size 1000x600 with 1 Axes>"
            ],
            "image/png": "[encoded data removed]"
          },
          "metadata": {}
        }
      ]
    },
    {
      "cell_type": "markdown",
      "source": [
        "\n",
        "\n",
        "La prueba Tukey muestra que hay una diferencia significativa entre los alumnos que realizan actividades extracurriculares y los que no, aproximadamente con 0.5 de diferencia."
      ],
      "metadata": {
        "id": "BN2Bg-k8DYQA"
      }
    },
    {
      "cell_type": "code",
      "source": [
        "df['nivel_motivacion'].unique()"
      ],
      "metadata": {
        "colab": {
          "base_uri": "https://localhost:8080/"
        },
        "id": "VHz6EyHMf0Tz",
        "outputId": "7449b148-81e8-46c2-8da7-aa2af1c52e40"
      },
      "execution_count": 12,
      "outputs": [
        {
          "output_type": "execute_result",
          "data": {
            "text/plain": [
              "array(['bajo', 'medio', 'elevado'], dtype=object)"
            ]
          },
          "metadata": {},
          "execution_count": 12
        }
      ]
    },
    {
      "cell_type": "code",
      "source": [
        "# Si todos los grupos tienen una distribución normal\n",
        "import scipy.stats as stats\n",
        "\n",
        "nivel_de_significancia = 0.05\n",
        "\n",
        "# Realizar ANOVA\n",
        "anova_result = stats.f_oneway(\n",
        "    df[df['nivel_motivacion'] == 'bajo']['puntaje_examen'],\n",
        "    df[df['nivel_motivacion'] == 'medio']['puntaje_examen'],\n",
        "    df[df['nivel_motivacion'] == 'elevado']['puntaje_examen'],\n",
        ")\n",
        "\n",
        "# Interpretar los resultados\n",
        "print(\"Resultados del ANOVA:\")\n",
        "print(f\"F-Estadístico: {anova_result.statistic:.2f}\")\n",
        "print(f\"Valor p: {anova_result.pvalue:.5f}\\n\")\n",
        "\n",
        "if anova_result.pvalue < nivel_de_significancia:\n",
        "    print(\"Conclusión: Hay diferencias significativas entre al menos dos tratamientos.\")\n",
        "else:\n",
        "    print(\"Conclusión: No hay diferencias significativas entre los tratamientos.\")"
      ],
      "metadata": {
        "colab": {
          "base_uri": "https://localhost:8080/"
        },
        "id": "A4Fxm5_VDpR2",
        "outputId": "dff4f2df-ed7c-47b1-e531-03dc5207f87f"
      },
      "execution_count": 13,
      "outputs": [
        {
          "output_type": "stream",
          "name": "stdout",
          "text": [
            "Resultados del ANOVA:\n",
            "F-Estadístico: 25.54\n",
            "Valor p: 0.00000\n",
            "\n",
            "Conclusión: Hay diferencias significativas entre al menos dos tratamientos.\n"
          ]
        }
      ]
    },
    {
      "cell_type": "markdown",
      "source": [
        "La prueba ANOVA aplicada al nivel de motivacion muestra que si hay una diferencia entre al menos dos pruebas, aproximadamente de 0.6."
      ],
      "metadata": {
        "id": "yIX8aeNyN4ss"
      }
    },
    {
      "cell_type": "code",
      "source": [
        "from statsmodels.stats.multicomp import pairwise_tukeyhsd\n",
        "import matplotlib.pyplot as plt\n",
        "\n",
        "nivel_de_significancia = 0.05\n",
        "\n",
        "# Prueba de Tukey\n",
        "tukey = pairwise_tukeyhsd(endog=df['puntaje_examen'], groups=df['nivel_motivacion'], alpha=nivel_de_significancia)\n",
        "\n",
        "# Mostrar los resultados\n",
        "print(tukey)\n",
        "\n",
        "# Gráfico de las diferencias entre grupos\n",
        "tukey.plot_simultaneous(ylabel=\"Grupos\", xlabel=\"Medias\")\n",
        "\n",
        "plt.gca().spines['right'].set_visible(False) # derecha\n",
        "plt.gca().spines['top'].set_visible(False)   # superior\n",
        "plt.title(\"Múltiples comparaciones entre todos los pares (Tukey)\")"
      ],
      "metadata": {
        "colab": {
          "base_uri": "https://localhost:8080/",
          "height": 721
        },
        "id": "Jb-gFk-oEZiD",
        "outputId": "95c9b13a-896a-4fec-f070-fbc22cdde78c"
      },
      "execution_count": 14,
      "outputs": [
        {
          "output_type": "stream",
          "name": "stdout",
          "text": [
            " Multiple Comparison of Means - Tukey HSD, FWER=0.05 \n",
            "=====================================================\n",
            " group1  group2 meandiff p-adj   lower  upper  reject\n",
            "-----------------------------------------------------\n",
            "   bajo elevado   0.9794    0.0  0.6474 1.3115   True\n",
            "   bajo   medio   0.5744    0.0  0.3086 0.8402   True\n",
            "elevado   medio   -0.405 0.0048 -0.7071 -0.103   True\n",
            "-----------------------------------------------------\n"
          ]
        },
        {
          "output_type": "execute_result",
          "data": {
            "text/plain": [
              "Text(0.5, 1.0, 'Múltiples comparaciones entre todos los pares (Tukey)')"
            ]
          },
          "metadata": {},
          "execution_count": 14
        },
        {
          "output_type": "display_data",
          "data": {
            "text/plain": [
              "<Figure size 1000x600 with 1 Axes>"
            ],
            "image/png": "[encoded data removed]"
          },
          "metadata": {}
        }
      ]
    },
    {
      "cell_type": "markdown",
      "source": [
        "La prueba Tukey muestra que hay una diferencia significativa entre los modelos de motivacion para cada alumno."
      ],
      "metadata": {
        "id": "5zMimnvMXAW9"
      }
    },
    {
      "cell_type": "code",
      "source": [
        "df['acceso_internet'].unique()"
      ],
      "metadata": {
        "colab": {
          "base_uri": "https://localhost:8080/"
        },
        "id": "v1iz0RDmgESR",
        "outputId": "aa757399-2462-463a-ce7b-dfa732dfc128"
      },
      "execution_count": 15,
      "outputs": [
        {
          "output_type": "execute_result",
          "data": {
            "text/plain": [
              "array(['si', 'no'], dtype=object)"
            ]
          },
          "metadata": {},
          "execution_count": 15
        }
      ]
    },
    {
      "cell_type": "code",
      "source": [
        "from statsmodels.stats.multicomp import pairwise_tukeyhsd\n",
        "import matplotlib.pyplot as plt\n",
        "\n",
        "nivel_de_significancia = 0.05\n",
        "\n",
        "# Prueba de Tukey\n",
        "tukey = pairwise_tukeyhsd(endog=df['puntaje_examen'], groups=df['acceso_internet'], alpha=nivel_de_significancia)\n",
        "\n",
        "# Mostrar los resultados\n",
        "print(tukey)\n",
        "\n",
        "# Gráfico de las diferencias entre grupos\n",
        "tukey.plot_simultaneous(ylabel=\"Grupos\", xlabel=\"Medias\")\n",
        "\n",
        "plt.gca().spines['right'].set_visible(False) # derecha\n",
        "plt.gca().spines['top'].set_visible(False)   # superior\n",
        "plt.title(\"Múltiples comparaciones entre todos los pares (Tukey)\")"
      ],
      "metadata": {
        "colab": {
          "base_uri": "https://localhost:8080/",
          "height": 686
        },
        "id": "48Cw3Wv9Fvjl",
        "outputId": "cf9a0937-f85b-4995-9c07-8864bcaee71a"
      },
      "execution_count": 16,
      "outputs": [
        {
          "output_type": "stream",
          "name": "stdout",
          "text": [
            "Multiple Comparison of Means - Tukey HSD, FWER=0.05\n",
            "=================================================\n",
            "group1 group2 meandiff p-adj lower  upper  reject\n",
            "-------------------------------------------------\n",
            "    no     si   0.7549   0.0 0.3929 1.1169   True\n",
            "-------------------------------------------------\n"
          ]
        },
        {
          "output_type": "execute_result",
          "data": {
            "text/plain": [
              "Text(0.5, 1.0, 'Múltiples comparaciones entre todos los pares (Tukey)')"
            ]
          },
          "metadata": {},
          "execution_count": 16
        },
        {
          "output_type": "display_data",
          "data": {
            "text/plain": [
              "<Figure size 1000x600 with 1 Axes>"
            ],
            "image/png": "[encoded data removed]"
          },
          "metadata": {}
        }
      ]
    },
    {
      "cell_type": "markdown",
      "source": [
        "La pruebas Tukey muestra que si hay una diferencai entre los alumnos que tienen internet o no de casi un punto."
      ],
      "metadata": {
        "id": "S78PLNcNwEY7"
      }
    },
    {
      "cell_type": "code",
      "source": [
        "\n",
        "  df['ingreso_familiar'].unique()"
      ],
      "metadata": {
        "colab": {
          "base_uri": "https://localhost:8080/"
        },
        "id": "fcjFe0TSijBU",
        "outputId": "36cdf608-d408-4b6b-976b-722816473299"
      },
      "execution_count": 17,
      "outputs": [
        {
          "output_type": "execute_result",
          "data": {
            "text/plain": [
              "array(['bajo', 'medio', 'elevado'], dtype=object)"
            ]
          },
          "metadata": {},
          "execution_count": 17
        }
      ]
    },
    {
      "cell_type": "code",
      "source": [
        "# Si todos los grupos tienen una distribución normal\n",
        "import scipy.stats as stats\n",
        "\n",
        "nivel_de_significancia = 0.05\n",
        "\n",
        "# Realizar ANOVA\n",
        "anova_result = stats.f_oneway(\n",
        "    df[df['ingreso_familiar'] == 'bajo']['puntaje_examen'],\n",
        "    df[df['ingreso_familiar'] == 'medio']['puntaje_examen'],\n",
        "    df[df['ingreso_familiar'] == 'elevado']['puntaje_examen'],\n",
        ")\n",
        "\n",
        "# Interpretar los resultados\n",
        "print(\"Resultados del ANOVA:\")\n",
        "print(f\"F-Estadístico: {anova_result.statistic:.2f}\")\n",
        "print(f\"Valor p: {anova_result.pvalue:.5f}\\n\")\n",
        "\n",
        "if anova_result.pvalue < nivel_de_significancia:\n",
        "    print(\"Conclusión: Hay diferencias significativas entre al menos dos tratamientos.\")\n",
        "else:\n",
        "    print(\"Conclusión: No hay diferencias significativas entre los tratamientos.\")"
      ],
      "metadata": {
        "colab": {
          "base_uri": "https://localhost:8080/"
        },
        "id": "YfDVPiseF_aY",
        "outputId": "ab673c21-09f4-4685-fe74-1e2f490444f2"
      },
      "execution_count": 18,
      "outputs": [
        {
          "output_type": "stream",
          "name": "stdout",
          "text": [
            "Resultados del ANOVA:\n",
            "F-Estadístico: 28.78\n",
            "Valor p: 0.00000\n",
            "\n",
            "Conclusión: Hay diferencias significativas entre al menos dos tratamientos.\n"
          ]
        }
      ]
    },
    {
      "cell_type": "markdown",
      "source": [
        "La prueba ANOVA aplicada al ingreso familiar indica que si hay diferencia entre al menos dos pruebas."
      ],
      "metadata": {
        "id": "ETz8oc3Owa3O"
      }
    },
    {
      "cell_type": "code",
      "source": [
        "from statsmodels.stats.multicomp import pairwise_tukeyhsd\n",
        "import matplotlib.pyplot as plt\n",
        "\n",
        "nivel_de_significancia = 0.05\n",
        "\n",
        "# Prueba de Tukey\n",
        "tukey = pairwise_tukeyhsd(endog=df['puntaje_examen'], groups=df['ingreso_familiar'], alpha=nivel_de_significancia)\n",
        "\n",
        "# Mostrar los resultados\n",
        "print(tukey)\n",
        "\n",
        "# Gráfico de las diferencias entre grupos\n",
        "tukey.plot_simultaneous(ylabel=\"Grupos\", xlabel=\"Medias\")\n",
        "\n",
        "plt.gca().spines['right'].set_visible(False) # derecha\n",
        "plt.gca().spines['top'].set_visible(False)   # superior\n",
        "plt.title(\"Múltiples comparaciones entre todos los pares (Tukey)\")"
      ],
      "metadata": {
        "colab": {
          "base_uri": "https://localhost:8080/",
          "height": 721
        },
        "id": "cN2ieybzGVKu",
        "outputId": "7aff4aa7-625b-4a31-aa09-10282a7e4a13"
      },
      "execution_count": 19,
      "outputs": [
        {
          "output_type": "stream",
          "name": "stdout",
          "text": [
            " Multiple Comparison of Means - Tukey HSD, FWER=0.05  \n",
            "======================================================\n",
            " group1  group2 meandiff p-adj   lower   upper  reject\n",
            "------------------------------------------------------\n",
            "   bajo elevado   0.9882    0.0  0.6717  1.3048   True\n",
            "   bajo   medio   0.5178    0.0  0.2631  0.7725   True\n",
            "elevado   medio  -0.4705 0.0015 -0.7873 -0.1536   True\n",
            "------------------------------------------------------\n"
          ]
        },
        {
          "output_type": "execute_result",
          "data": {
            "text/plain": [
              "Text(0.5, 1.0, 'Múltiples comparaciones entre todos los pares (Tukey)')"
            ]
          },
          "metadata": {},
          "execution_count": 19
        },
        {
          "output_type": "display_data",
          "data": {
            "text/plain": [
              "<Figure size 1000x600 with 1 Axes>"
            ],
            "image/png": "[encoded data removed]"
          },
          "metadata": {}
        }
      ]
    },
    {
      "cell_type": "markdown",
      "source": [
        "La prueba Tukey muestra que hay una diferencia significativa entre el nivel bajo, medio y elevado de los ingresos de la familia para las calificaciones de los examenes."
      ],
      "metadata": {
        "id": "jMCKpXOLYCIi"
      }
    },
    {
      "cell_type": "code",
      "source": [
        "\n",
        "  df['calidad_profesorado'].unique()"
      ],
      "metadata": {
        "colab": {
          "base_uri": "https://localhost:8080/"
        },
        "id": "xK6EgmntjWEI",
        "outputId": "40314c8e-c74d-4cf6-fd1c-f2382b55ad82"
      },
      "execution_count": 20,
      "outputs": [
        {
          "output_type": "execute_result",
          "data": {
            "text/plain": [
              "array(['medio', 'bajo', 'elevado'], dtype=object)"
            ]
          },
          "metadata": {},
          "execution_count": 20
        }
      ]
    },
    {
      "cell_type": "code",
      "source": [
        "# Si todos los grupos tienen una distribución normal\n",
        "import scipy.stats as stats\n",
        "\n",
        "nivel_de_significancia = 0.05\n",
        "\n",
        "# Realizar ANOVA\n",
        "anova_result = stats.f_oneway(\n",
        "    df[df['calidad_profesorado'] == 'bajo']['puntaje_examen'],\n",
        "    df[df['calidad_profesorado'] == 'medio']['puntaje_examen'],\n",
        "    df[df['calidad_profesorado'] == 'elevado']['puntaje_examen'],\n",
        ")\n",
        "\n",
        "# Interpretar los resultados\n",
        "print(\"Resultados del ANOVA:\")\n",
        "print(f\"F-Estadístico: {anova_result.statistic:.2f}\")\n",
        "print(f\"Valor p: {anova_result.pvalue:.5f}\\n\")\n",
        "\n",
        "if anova_result.pvalue < nivel_de_significancia:\n",
        "    print(\"Conclusión: Hay diferencias significativas entre al menos dos tratamientos.\")\n",
        "else:\n",
        "    print(\"Conclusión: No hay diferencias significativas entre los tratamientos.\")"
      ],
      "metadata": {
        "colab": {
          "base_uri": "https://localhost:8080/"
        },
        "id": "W7TQb2b3YmeM",
        "outputId": "846a0270-a73f-4f77-8b14-e1c58fc908c9"
      },
      "execution_count": 21,
      "outputs": [
        {
          "output_type": "stream",
          "name": "stdout",
          "text": [
            "Resultados del ANOVA:\n",
            "F-Estadístico: 17.12\n",
            "Valor p: 0.00000\n",
            "\n",
            "Conclusión: Hay diferencias significativas entre al menos dos tratamientos.\n"
          ]
        }
      ]
    },
    {
      "cell_type": "markdown",
      "source": [
        "La prueba ANOVA muestra una diferencia entre al menos dos pruebas de la calidad del profesorado."
      ],
      "metadata": {
        "id": "P51Fr2DC8x2x"
      }
    },
    {
      "cell_type": "code",
      "source": [
        "from statsmodels.stats.multicomp import pairwise_tukeyhsd\n",
        "import matplotlib.pyplot as plt\n",
        "\n",
        "nivel_de_significancia = 0.05\n",
        "\n",
        "# Prueba de Tukey\n",
        "tukey = pairwise_tukeyhsd(endog=df['puntaje_examen'], groups=df['calidad_profesorado'], alpha=nivel_de_significancia)\n",
        "\n",
        "# Mostrar los resultados\n",
        "print(tukey)\n",
        "\n",
        "# Gráfico de las diferencias entre grupos\n",
        "tukey.plot_simultaneous(ylabel=\"Grupos\", xlabel=\"Medias\")\n",
        "\n",
        "plt.gca().spines['right'].set_visible(False) # derecha\n",
        "plt.gca().spines['top'].set_visible(False)   # superior\n",
        "plt.title(\"Múltiples comparaciones entre todos los pares (Tukey)\")"
      ],
      "metadata": {
        "colab": {
          "base_uri": "https://localhost:8080/",
          "height": 721
        },
        "id": "ub8dz4xZENV-",
        "outputId": "168def29-74d0-41b3-955b-348d67156baf"
      },
      "execution_count": 22,
      "outputs": [
        {
          "output_type": "stream",
          "name": "stdout",
          "text": [
            " Multiple Comparison of Means - Tukey HSD, FWER=0.05  \n",
            "======================================================\n",
            " group1  group2 meandiff p-adj   lower   upper  reject\n",
            "------------------------------------------------------\n",
            "   bajo elevado   0.5447    0.0  0.2585  0.8309   True\n",
            "   bajo   medio  -0.1345 0.4821 -0.4082  0.1392  False\n",
            "elevado   medio  -0.6792    0.0 -0.9638 -0.3947   True\n",
            "------------------------------------------------------\n"
          ]
        },
        {
          "output_type": "execute_result",
          "data": {
            "text/plain": [
              "Text(0.5, 1.0, 'Múltiples comparaciones entre todos los pares (Tukey)')"
            ]
          },
          "metadata": {},
          "execution_count": 22
        },
        {
          "output_type": "display_data",
          "data": {
            "text/plain": [
              "<Figure size 1000x600 with 1 Axes>"
            ],
            "image/png": "[encoded data removed]"
          },
          "metadata": {}
        }
      ]
    },
    {
      "cell_type": "markdown",
      "source": [
        "La prueba Tukey muestra que si hay una diferencia entre las tres pruebas de la calidad del profesorado.\n",
        "\n",
        "```\n",
        "# This is formatted as code\n",
        "```\n",
        "\n"
      ],
      "metadata": {
        "id": "CxpoGkd4ErSM"
      }
    },
    {
      "cell_type": "code",
      "source": [
        "\n",
        "  df['tipo_escuela'].unique()"
      ],
      "metadata": {
        "colab": {
          "base_uri": "https://localhost:8080/"
        },
        "id": "9tGD5HoAhVuf",
        "outputId": "77513d4c-6f3f-4789-8bff-4035c7592689"
      },
      "execution_count": 23,
      "outputs": [
        {
          "output_type": "execute_result",
          "data": {
            "text/plain": [
              "array(['publico', 'privado'], dtype=object)"
            ]
          },
          "metadata": {},
          "execution_count": 23
        }
      ]
    },
    {
      "cell_type": "code",
      "source": [
        "from statsmodels.stats.multicomp import pairwise_tukeyhsd\n",
        "import matplotlib.pyplot as plt\n",
        "\n",
        "nivel_de_significancia = 0.05\n",
        "\n",
        "# Prueba de Tukey\n",
        "tukey = pairwise_tukeyhsd(endog=df['puntaje_examen'], groups=df['tipo_escuela'], alpha=nivel_de_significancia)\n",
        "\n",
        "# Mostrar los resultados\n",
        "print(tukey)\n",
        "\n",
        "# Gráfico de las diferencias entre grupos\n",
        "tukey.plot_simultaneous(ylabel=\"Grupos\", xlabel=\"Medias\")\n",
        "\n",
        "plt.gca().spines['right'].set_visible(False) # derecha\n",
        "plt.gca().spines['top'].set_visible(False)   # superior\n",
        "plt.title(\"Múltiples comparaciones entre todos los pares (Tukey)\")"
      ],
      "metadata": {
        "colab": {
          "base_uri": "https://localhost:8080/",
          "height": 686
        },
        "id": "Dmlu6eKjiFOF",
        "outputId": "c40b08d6-8c1c-4ab9-cd01-4ea1625d1ded"
      },
      "execution_count": 24,
      "outputs": [
        {
          "output_type": "stream",
          "name": "stdout",
          "text": [
            " Multiple Comparison of Means - Tukey HSD, FWER=0.05 \n",
            "=====================================================\n",
            " group1  group2 meandiff p-adj   lower  upper  reject\n",
            "-----------------------------------------------------\n",
            "privado publico  -0.0924 0.3855 -0.3011 0.1163  False\n",
            "-----------------------------------------------------\n"
          ]
        },
        {
          "output_type": "execute_result",
          "data": {
            "text/plain": [
              "Text(0.5, 1.0, 'Múltiples comparaciones entre todos los pares (Tukey)')"
            ]
          },
          "metadata": {},
          "execution_count": 24
        },
        {
          "output_type": "display_data",
          "data": {
            "text/plain": [
              "<Figure size 1000x600 with 1 Axes>"
            ],
            "image/png": "[encoded data removed]"
          },
          "metadata": {}
        }
      ]
    },
    {
      "cell_type": "markdown",
      "source": [
        "Con la prueba Tukey se muestra que si hay una diferencia en las calificaciones de los examenes de las escuelas publicas y privadas, muy poca pero se encuentra."
      ],
      "metadata": {
        "id": "fWSGeDTx99QY"
      }
    },
    {
      "cell_type": "code",
      "source": [
        "\n",
        "df['influencia_companieros'].unique()"
      ],
      "metadata": {
        "colab": {
          "base_uri": "https://localhost:8080/"
        },
        "id": "317zi5AqjheG",
        "outputId": "11e75c5d-dfd6-4608-f3d1-a6f5c385a816"
      },
      "execution_count": 25,
      "outputs": [
        {
          "output_type": "execute_result",
          "data": {
            "text/plain": [
              "array(['positivo', 'negativo', 'neutral'], dtype=object)"
            ]
          },
          "metadata": {},
          "execution_count": 25
        }
      ]
    },
    {
      "cell_type": "code",
      "source": [
        "\n",
        "  # Si todos los grupos tienen una distribución normal\n",
        "import scipy.stats as stats\n",
        "\n",
        "nivel_de_significancia = 0.05\n",
        "\n",
        "# Realizar ANOVA\n",
        "anova_result = stats.f_oneway(\n",
        "    df[df['influencia_companieros'] == 'positivo']['puntaje_examen'],\n",
        "    df[df['influencia_companieros'] == 'negativo']['puntaje_examen'],\n",
        "    df[df['influencia_companieros'] == 'neutral']['puntaje_examen'],\n",
        ")\n",
        "\n",
        "# Interpretar los resultados\n",
        "print(\"Resultados del ANOVA:\")\n",
        "print(f\"F-Estadístico: {anova_result.statistic:.2f}\")\n",
        "print(f\"Valor p: {anova_result.pvalue:.5f}\\n\")\n",
        "\n",
        "if anova_result.pvalue < nivel_de_significancia:\n",
        "    print(\"Conclusión: Hay diferencias significativas entre al menos dos tratamientos.\")\n",
        "else:\n",
        "    print(\"Conclusión: No hay diferencias significativas entre los tratamientos.\")"
      ],
      "metadata": {
        "colab": {
          "base_uri": "https://localhost:8080/"
        },
        "id": "fSVa9WJ0-SIe",
        "outputId": "c5f2a095-52c2-4a76-b4cd-56aef097cf11"
      },
      "execution_count": 26,
      "outputs": [
        {
          "output_type": "stream",
          "name": "stdout",
          "text": [
            "Resultados del ANOVA:\n",
            "F-Estadístico: 32.18\n",
            "Valor p: 0.00000\n",
            "\n",
            "Conclusión: Hay diferencias significativas entre al menos dos tratamientos.\n"
          ]
        }
      ]
    },
    {
      "cell_type": "markdown",
      "source": [
        "La prueba ANOVA aplicada para la influencia de los compañeros sugiere que si hay una diferencia entre al menos dos pruebas."
      ],
      "metadata": {
        "id": "wd6m871kFVOS"
      }
    },
    {
      "cell_type": "code",
      "source": [
        " from statsmodels.stats.multicomp import pairwise_tukeyhsd\n",
        "import matplotlib.pyplot as plt\n",
        "\n",
        "nivel_de_significancia = 0.05\n",
        "\n",
        "# Prueba de Tukey\n",
        "tukey = pairwise_tukeyhsd(endog=df['puntaje_examen'], groups=df['influencia_companieros'], alpha=nivel_de_significancia)\n",
        "\n",
        "# Mostrar los resultados\n",
        "print(tukey)\n",
        "\n",
        "# Gráfico de las diferencias entre grupos\n",
        "tukey.plot_simultaneous(ylabel=\"Grupos\", xlabel=\"Medias\")\n",
        "\n",
        "plt.gca().spines['right'].set_visible(False) # derecha\n",
        "plt.gca().spines['top'].set_visible(False)   # superior\n",
        "plt.title(\"Múltiples comparaciones entre todos los pares (Tukey)\")"
      ],
      "metadata": {
        "colab": {
          "base_uri": "https://localhost:8080/",
          "height": 721
        },
        "id": "fZqRVSxm-37i",
        "outputId": "5319f792-d95f-41a8-cd2e-5cf9865a93a2"
      },
      "execution_count": 27,
      "outputs": [
        {
          "output_type": "stream",
          "name": "stdout",
          "text": [
            " Multiple Comparison of Means - Tukey HSD, FWER=0.05  \n",
            "======================================================\n",
            " group1   group2  meandiff p-adj  lower  upper  reject\n",
            "------------------------------------------------------\n",
            "negativo  neutral   0.6329    0.0 0.3229 0.9429   True\n",
            "negativo positivo   1.0538    0.0  0.745 1.3626   True\n",
            " neutral positivo   0.4209 0.0004 0.1638 0.6779   True\n",
            "------------------------------------------------------\n"
          ]
        },
        {
          "output_type": "execute_result",
          "data": {
            "text/plain": [
              "Text(0.5, 1.0, 'Múltiples comparaciones entre todos los pares (Tukey)')"
            ]
          },
          "metadata": {},
          "execution_count": 27
        },
        {
          "output_type": "display_data",
          "data": {
            "text/plain": [
              "<Figure size 1000x600 with 1 Axes>"
            ],
            "image/png": "[encoded data removed]"
          },
          "metadata": {}
        }
      ]
    },
    {
      "cell_type": "markdown",
      "source": [
        "La prueba Tukey aplicada para la influencia de los compañeros muestra que si hay una diferencia significativa hasta de un punto entre la positiva y negativa."
      ],
      "metadata": {
        "id": "9_-IT4yKFk_Y"
      }
    },
    {
      "cell_type": "code",
      "source": [
        "df['nivel_estudio_padres'].unique()"
      ],
      "metadata": {
        "colab": {
          "base_uri": "https://localhost:8080/"
        },
        "id": "lnQmyMkjj2aM",
        "outputId": "031e666c-5cc6-4b51-9e24-4347e80b3f49"
      },
      "execution_count": 28,
      "outputs": [
        {
          "output_type": "execute_result",
          "data": {
            "text/plain": [
              "array(['preparatoria', 'universidad', 'posgrado'], dtype=object)"
            ]
          },
          "metadata": {},
          "execution_count": 28
        }
      ]
    },
    {
      "cell_type": "code",
      "source": [
        "\n",
        "\n",
        "  # Si todos los grupos tienen una distribución normal\n",
        "import scipy.stats as stats\n",
        "\n",
        "nivel_de_significancia = 0.05\n",
        "\n",
        "# Realizar ANOVA\n",
        "anova_result = stats.f_oneway(\n",
        "    df[df['nivel_estudio_padres'] == 'preparatoria']['puntaje_examen'],\n",
        "    df[df['nivel_estudio_padres'] == 'universidad']['puntaje_examen'],\n",
        "    df[df['nivel_estudio_padres'] == 'posgrado']['puntaje_examen'],\n",
        ")\n",
        "\n",
        "# Interpretar los resultados\n",
        "print(\"Resultados del ANOVA:\")\n",
        "print(f\"F-Estadístico: {anova_result.statistic:.2f}\")\n",
        "print(f\"Valor p: {anova_result.pvalue:.5f}\\n\")\n",
        "\n",
        "if anova_result.pvalue < nivel_de_significancia:\n",
        "    print(\"Conclusión: Hay diferencias significativas entre al menos dos tratamientos.\")\n",
        "else:\n",
        "    print(\"Conclusión: No hay diferencias significativas entre los tratamientos.\")"
      ],
      "metadata": {
        "id": "U0dQGWnS_Uid",
        "colab": {
          "base_uri": "https://localhost:8080/"
        },
        "outputId": "971fa590-3047-4198-f6ad-c0137a743d49"
      },
      "execution_count": 29,
      "outputs": [
        {
          "output_type": "stream",
          "name": "stdout",
          "text": [
            "Resultados del ANOVA:\n",
            "F-Estadístico: 35.95\n",
            "Valor p: 0.00000\n",
            "\n",
            "Conclusión: Hay diferencias significativas entre al menos dos tratamientos.\n"
          ]
        }
      ]
    },
    {
      "cell_type": "markdown",
      "source": [
        "La prueba ANOVA aplicada para el nivel de estudio de los padres muestra que si hay una diferencia significativa entre al menos dos pruebas."
      ],
      "metadata": {
        "id": "DXL5QRVBF94w"
      }
    },
    {
      "cell_type": "code",
      "source": [
        " from statsmodels.stats.multicomp import pairwise_tukeyhsd\n",
        "import matplotlib.pyplot as plt\n",
        "\n",
        "nivel_de_significancia = 0.05\n",
        "\n",
        "# Prueba de Tukey\n",
        "tukey = pairwise_tukeyhsd(endog=df['puntaje_examen'], groups=df['nivel_estudio_padres'], alpha=nivel_de_significancia)\n",
        "\n",
        "# Mostrar los resultados\n",
        "print(tukey)\n",
        "\n",
        "# Gráfico de las diferencias entre grupos\n",
        "tukey.plot_simultaneous(ylabel=\"Grupos\", xlabel=\"Medias\")\n",
        "\n",
        "plt.gca().spines['right'].set_visible(False) # derecha\n",
        "plt.gca().spines['top'].set_visible(False)   # superior"
      ],
      "metadata": {
        "colab": {
          "base_uri": "https://localhost:8080/",
          "height": 703
        },
        "id": "HOiapYw7mS95",
        "outputId": "d986c72b-3b8b-439f-d899-1df131012a7f"
      },
      "execution_count": 30,
      "outputs": [
        {
          "output_type": "stream",
          "name": "stdout",
          "text": [
            "      Multiple Comparison of Means - Tukey HSD, FWER=0.05       \n",
            "================================================================\n",
            "   group1       group2    meandiff p-adj   lower   upper  reject\n",
            "----------------------------------------------------------------\n",
            "    posgrado preparatoria  -1.0778    0.0 -1.3801 -0.7754   True\n",
            "    posgrado  universidad  -0.6142    0.0 -0.9429 -0.2856   True\n",
            "preparatoria  universidad   0.4635 0.0001  0.2002  0.7268   True\n",
            "----------------------------------------------------------------\n"
          ]
        },
        {
          "output_type": "display_data",
          "data": {
            "text/plain": [
              "<Figure size 1000x600 with 1 Axes>"
            ],
            "image/png": "[encoded data removed]"
          },
          "metadata": {}
        }
      ]
    },
    {
      "cell_type": "markdown",
      "source": [
        "La prueba Tukey muestra una diferencia aproximadamente de 0.5 puntos de los padres que estudiaron la preparatoria a la universidad y de mas de un punto para los que estudiaron preparatoria y posgrado, influyendo en las calificaciones de sus hijos."
      ],
      "metadata": {
        "id": "EQJ16Cf1GN-l"
      }
    },
    {
      "cell_type": "code",
      "source": [
        "df['discapacidad_aprendizaje'].unique()"
      ],
      "metadata": {
        "colab": {
          "base_uri": "https://localhost:8080/"
        },
        "id": "GnNJwl15ky1_",
        "outputId": "a9d3e2ea-ff3a-437e-ed57-cebea87e8a32"
      },
      "execution_count": 31,
      "outputs": [
        {
          "output_type": "execute_result",
          "data": {
            "text/plain": [
              "array(['no', 'si'], dtype=object)"
            ]
          },
          "metadata": {},
          "execution_count": 31
        }
      ]
    },
    {
      "cell_type": "code",
      "source": [
        " from statsmodels.stats.multicomp import pairwise_tukeyhsd\n",
        "import matplotlib.pyplot as plt\n",
        "\n",
        "nivel_de_significancia = 0.05\n",
        "\n",
        "# Prueba de Tukey\n",
        "tukey = pairwise_tukeyhsd(endog=df['puntaje_examen'], groups=df['discapacidad_aprendizaje'], alpha=nivel_de_significancia)\n",
        "\n",
        "# Mostrar los resultados\n",
        "print(tukey)\n",
        "\n",
        "# Gráfico de las diferencias entre grupos\n",
        "tukey.plot_simultaneous(ylabel=\"Grupos\", xlabel=\"Medias\")\n",
        "\n",
        "plt.gca().spines['right'].set_visible(False) # derecha\n",
        "plt.gca().spines['top'].set_visible(False)   # superior\n",
        "plt.title(\"Múltiples comparaciones entre todos los pares (Tukey)\")"
      ],
      "metadata": {
        "colab": {
          "base_uri": "https://localhost:8080/",
          "height": 686
        },
        "id": "9ghCyjBbkfhS",
        "outputId": "0b945d1f-f576-4709-9649-f8d1e9de9dd7"
      },
      "execution_count": 32,
      "outputs": [
        {
          "output_type": "stream",
          "name": "stdout",
          "text": [
            "Multiple Comparison of Means - Tukey HSD, FWER=0.05\n",
            "===================================================\n",
            "group1 group2 meandiff p-adj  lower   upper  reject\n",
            "---------------------------------------------------\n",
            "    no     si  -1.0725   0.0 -1.3852 -0.7598   True\n",
            "---------------------------------------------------\n"
          ]
        },
        {
          "output_type": "execute_result",
          "data": {
            "text/plain": [
              "Text(0.5, 1.0, 'Múltiples comparaciones entre todos los pares (Tukey)')"
            ]
          },
          "metadata": {},
          "execution_count": 32
        },
        {
          "output_type": "display_data",
          "data": {
            "text/plain": [
              "<Figure size 1000x600 with 1 Axes>"
            ],
            "image/png": "[encoded data removed]"
          },
          "metadata": {}
        }
      ]
    },
    {
      "cell_type": "markdown",
      "source": [
        "La prueba Tukey aplicada a la discapacidad muestra que hay diferencia de casi un punto entre las calificaciones de un alumno que si tiene una discapacidad y uno que no."
      ],
      "metadata": {
        "id": "jFzUwdFxG7W8"
      }
    },
    {
      "cell_type": "code",
      "source": [
        "df['distancia'].unique()"
      ],
      "metadata": {
        "id": "vzM8hfLgleKl",
        "colab": {
          "base_uri": "https://localhost:8080/"
        },
        "outputId": "fd95d7f6-9224-4a29-ec4b-ec418c31d612"
      },
      "execution_count": 33,
      "outputs": [
        {
          "output_type": "execute_result",
          "data": {
            "text/plain": [
              "array(['cercano', 'moderado', 'lejano'], dtype=object)"
            ]
          },
          "metadata": {},
          "execution_count": 33
        }
      ]
    },
    {
      "cell_type": "code",
      "source": [
        "  # Si todos los grupos tienen una distribución normal\n",
        "import scipy.stats as stats\n",
        "\n",
        "nivel_de_significancia = 0.05\n",
        "\n",
        "# Realizar ANOVA\n",
        "anova_result = stats.f_oneway(\n",
        "    df[df['distancia'] == 'cercano']['puntaje_examen'],\n",
        "    df[df['distancia'] == 'moderado']['puntaje_examen'],\n",
        "    df[df['distancia'] == 'lejano']['puntaje_examen'],\n",
        ")\n",
        "\n",
        "# Interpretar los resultados\n",
        "print(\"Resultados del ANOVA:\")\n",
        "print(f\"F-Estadístico: {anova_result.statistic:.2f}\")\n",
        "print(f\"Valor p: {anova_result.pvalue:.5f}\\n\")\n",
        "\n",
        "if anova_result.pvalue < nivel_de_significancia:\n",
        "    print(\"Conclusión: Hay diferencias significativas entre al menos dos tratamientos.\")\n",
        "else:\n",
        "    print(\"Conclusión: No hay diferencias significativas entre los tratamientos.\")"
      ],
      "metadata": {
        "colab": {
          "base_uri": "https://localhost:8080/"
        },
        "id": "iEYzHEwvpGTx",
        "outputId": "b6ce5d8a-bc5d-4ee1-f4ec-9e13a13c9f33"
      },
      "execution_count": 34,
      "outputs": [
        {
          "output_type": "stream",
          "name": "stdout",
          "text": [
            "Resultados del ANOVA:\n",
            "F-Estadístico: 24.94\n",
            "Valor p: 0.00000\n",
            "\n",
            "Conclusión: Hay diferencias significativas entre al menos dos tratamientos.\n"
          ]
        }
      ]
    },
    {
      "cell_type": "markdown",
      "source": [
        "La prueba ANOVA aplicada a la distancia muestra que si hay uan diferencia significativa entre al menos dos pruebas."
      ],
      "metadata": {
        "id": "gqlAYZ5-Hbij"
      }
    },
    {
      "cell_type": "code",
      "source": [
        " from statsmodels.stats.multicomp import pairwise_tukeyhsd\n",
        "import matplotlib.pyplot as plt\n",
        "\n",
        "nivel_de_significancia = 0.05\n",
        "\n",
        "# Prueba de Tukey\n",
        "tukey = pairwise_tukeyhsd(endog=df['puntaje_examen'], groups=df['distancia'], alpha=nivel_de_significancia)\n",
        "\n",
        "# Mostrar los resultados\n",
        "print(tukey)\n",
        "\n",
        "# Gráfico de las diferencias entre grupos\n",
        "tukey.plot_simultaneous(ylabel=\"Grupos\", xlabel=\"Medias\")\n",
        "\n",
        "plt.gca().spines['right'].set_visible(False) # derecha\n",
        "plt.gca().spines['top'].set_visible(False)   # superior\n",
        "plt.title(\"Múltiples comparaciones entre todos los pares (Tukey)\")"
      ],
      "metadata": {
        "colab": {
          "base_uri": "https://localhost:8080/",
          "height": 721
        },
        "id": "ylcb-EoDqPvP",
        "outputId": "f212808e-1adb-4f68-b08c-e1a32f748a1c"
      },
      "execution_count": 35,
      "outputs": [
        {
          "output_type": "stream",
          "name": "stdout",
          "text": [
            " Multiple Comparison of Means - Tukey HSD, FWER=0.05  \n",
            "======================================================\n",
            " group1  group2  meandiff p-adj  lower   upper  reject\n",
            "------------------------------------------------------\n",
            "cercano   lejano  -1.0154   0.0  -1.407 -0.6237   True\n",
            "cercano moderado  -0.5272   0.0 -0.7822 -0.2722   True\n",
            " lejano moderado   0.4882 0.017  0.0705  0.9059   True\n",
            "------------------------------------------------------\n"
          ]
        },
        {
          "output_type": "execute_result",
          "data": {
            "text/plain": [
              "Text(0.5, 1.0, 'Múltiples comparaciones entre todos los pares (Tukey)')"
            ]
          },
          "metadata": {},
          "execution_count": 35
        },
        {
          "output_type": "display_data",
          "data": {
            "text/plain": [
              "<Figure size 1000x600 with 1 Axes>"
            ],
            "image/png": "[encoded data removed]"
          },
          "metadata": {}
        }
      ]
    },
    {
      "cell_type": "markdown",
      "source": [
        "La prueba Tukey muestra que los alumnos que viven mas lejos de la esceula tienen una desventaja contra los que no de casi un punto y una de aproximadamente 0.5 con los que viven medianamente cerca."
      ],
      "metadata": {
        "id": "hQKW-trlHy16"
      }
    },
    {
      "cell_type": "code",
      "source": [
        "df['genero'].unique()"
      ],
      "metadata": {
        "colab": {
          "base_uri": "https://localhost:8080/"
        },
        "id": "8569MaELq0yr",
        "outputId": "78d3f140-9c76-4db5-ec30-8378c932b8d1"
      },
      "execution_count": 36,
      "outputs": [
        {
          "output_type": "execute_result",
          "data": {
            "text/plain": [
              "array(['hombre', 'mujer'], dtype=object)"
            ]
          },
          "metadata": {},
          "execution_count": 36
        }
      ]
    },
    {
      "cell_type": "code",
      "source": [
        " from statsmodels.stats.multicomp import pairwise_tukeyhsd\n",
        "import matplotlib.pyplot as plt\n",
        "\n",
        "nivel_de_significancia = 0.05\n",
        "\n",
        "# Prueba de Tukey\n",
        "tukey = pairwise_tukeyhsd(endog=df['puntaje_examen'], groups=df['genero'], alpha=nivel_de_significancia)\n",
        "\n",
        "# Mostrar los resultados\n",
        "print(tukey)\n",
        "\n",
        "# Gráfico de las diferencias entre grupos\n",
        "tukey.plot_simultaneous(ylabel=\"Grupos\", xlabel=\"Medias\")\n",
        "\n",
        "plt.gca().spines['right'].set_visible(False) # derecha\n",
        "plt.gca().spines['top'].set_visible(False)   # superior\n",
        "plt.title(\"Múltiples comparaciones entre todos los pares (Tukey)\")"
      ],
      "metadata": {
        "colab": {
          "base_uri": "https://localhost:8080/",
          "height": 686
        },
        "id": "K2jHKXByrLTy",
        "outputId": "045e3a85-e08d-4665-fbf5-d7d5ab6ffd85"
      },
      "execution_count": 37,
      "outputs": [
        {
          "output_type": "stream",
          "name": "stdout",
          "text": [
            "Multiple Comparison of Means - Tukey HSD, FWER=0.05\n",
            "===================================================\n",
            "group1 group2 meandiff p-adj   lower  upper  reject\n",
            "---------------------------------------------------\n",
            "hombre  mujer   0.0391 0.6937 -0.1555 0.2337  False\n",
            "---------------------------------------------------\n"
          ]
        },
        {
          "output_type": "execute_result",
          "data": {
            "text/plain": [
              "Text(0.5, 1.0, 'Múltiples comparaciones entre todos los pares (Tukey)')"
            ]
          },
          "metadata": {},
          "execution_count": 37
        },
        {
          "output_type": "display_data",
          "data": {
            "text/plain": [
              "<Figure size 1000x600 with 1 Axes>"
            ],
            "image/png": "[encoded data removed]"
          },
          "metadata": {}
        }
      ]
    },
    {
      "cell_type": "markdown",
      "source": [
        "La prueba Tukey muestra una diferencia aproximadamente de 0.3 puntos de los hombres y las mujeres en las calificaciones de los examenes."
      ],
      "metadata": {
        "id": "hc3JJwW9IIS4"
      }
    },
    {
      "cell_type": "markdown",
      "source": [
        "**MARCO TEORICO**\n",
        "\n",
        "\n",
        "ANOVA (Análisis de Varianza)\n",
        "La prueba ANOVA o análisis de varianza es un método estadístico que permite descubrir si los resultados de una prueba son significativos, es decir, permiten determinar si es necesario rechazar la hipótesis nula o aceptar la hipótesis alternativa.\n",
        "El ANOVA permite evaluar si existen diferencias significativas en las calificaciones finales (puntaje_examen) de los estudiantes en función de factores como:\n",
        "- Participación Parental: Evaluar si la participación de los padres (baja, media, alta) impacta en las calificaciones.\n",
        "- Acceso a Recursos: Analizar cómo la disponibilidad de recursos educativos (bajo, medio, alto) afecta el rendimiento académico.\n",
        "- Tipo de Escuela: Comparar las calificaciones entre estudiantes de escuelas públicas y privadas.\n",
        "Al aplicar ANOVA, se puede determinar si al menos uno de estos grupos presenta un rendimiento significativamente diferente en sus calificaciones.\n",
        "\n",
        "\n",
        "Test de Tukey\n",
        "\n",
        "\n",
        "El método de Tukey se utiliza en ANOVA para crear intervalos de confianza para todas las diferencias en parejas entre las medias de los niveles de los factores mientras controla la tasa de error por familia en un nivel especificado.\n",
        "Si ANOVA indicó diferencias significativas, el test de Tukey se utiliza para identificar específicamente cuáles grupos difieren. Por ejemplo, después de encontrar que la participación parental afecta las calificaciones, el test de Tukey puede revelar si las calificaciones de los estudiantes con alta participación son significativamente diferentes de aquellos con baja participación.\n"
      ],
      "metadata": {
        "id": "7pIwUXS6whjQ"
      }
    },
    {
      "cell_type": "markdown",
      "source": [
        "**METODOLOGIA**\n",
        "La metodología para analizar las calificaciones de exámenes de los estudiantes se centra en la aplicación del Análisis de Varianza (ANOVA) y el test de Tukey para identificar cómo diversas variables influyen en el rendimiento académico.\n",
        "\n",
        "*1. Definición de Variables:*\n",
        "Se seleccionarán las variables independientes que pueden afectar las calificaciones finales (puntaje examen), tales como:\n",
        "- Horas de estudio\n",
        "- Porcentaje de asistencia\n",
        "- Participación parental (Baja, Media, Alta)\n",
        "- Acceso a recursos (Bajo, Medio, Alto)\n",
        "- Tipo de escuela (Pública, Privada)\n",
        "- Nivel de motivación (Bajo, Medio, Alto)\n",
        "\n",
        "*2. Recopilación de Datos:*\n",
        "Se usó una base de datos proporcionada por el profesor Jose Cruz\n",
        "\n",
        "*3. Análisis de Datos:*\n",
        "- *ANOVA:* Se aplicará ANOVA para evaluar si existen diferencias significativas en las calificaciones finales entre los grupos definidos por las variables categóricas, como participación parental y tipo de escuela. Esto permitirá identificar si al menos un grupo presenta un rendimiento diferente.\n",
        "  \n",
        "- *Test de Tukey:* Si ANOVA indicó diferencias significativas, se utilizará el test de Tukey para realizar comparaciones múltiples entre los grupos, determinando específicamente cuáles son significativamente diferentes en sus calificaciones.\n",
        "\n",
        "*4. Interpretación de Resultados:*\n",
        "Los resultados del ANOVA y el test de Tukey se analizarán para extraer conclusiones sobre la influencia de las variables en el rendimiento académico. Se identificarán patrones que puedan servir para mejorar la enseñanza y el aprendizaje.\n",
        "\n",
        "Esta metodología permite un análisis riguroso y estructurado del impacto de diferentes factores en las calificaciones de los exámenes, proporcionando información valiosa para la toma de decisiones educativas.\n"
      ],
      "metadata": {
        "id": "gpJLUeXxtqed"
      }
    },
    {
      "cell_type": "markdown",
      "source": [
        "**CONCLUSION**\n",
        "\n",
        "\n",
        "El análisis realizado revela que múltiples factores influyen significativamente en el rendimiento académico de los estudiantes, destacándose especialmente las dinámicas familiares, el acceso a recursos educativos, y características individuales como la motivación y las actividades extracurriculares.\n",
        "Los estudiantes que cuentan con una alta participación parental tienden a obtener mejores calificaciones, lo que resalta la importancia de un entorno familiar comprometido. Asi mismo, el acceso a recursos educativos adecuados y a internet contribuye significativamente al desempeño académico, subrayando la necesidad de políticas que reduzcan la brecha digital y de recursos. Otro hallazgo relevante es que los estudiantes motivados y aquellos que participan en actividades extracurriculares muestran un mejor rendimiento, lo que sugiere que estas actividades no solo complementan la educación, sino que también fomentan habilidades clave como la disciplina y la gestión del tiempo.\n",
        "El ingreso familiar y el nivel educativo de los padres también juegan un papel crucial, con un impacto positivo en las calificaciones cuando estos niveles son elevados. Esto evidencia la influencia del entorno socioeconómico en las oportunidades educativas y la necesidad de apoyar a estudiantes en situaciones vulnerables. Por otro lado, la distancia a la escuela y la influencia de los compañeros son factores importantes; vivir cerca de la escuela y estar rodeado de compañeros con actitudes positivas favorecen el rendimiento académico.\n",
        "En contraste, no se encontraron diferencias significativas en las calificaciones de estudiantes de escuelas públicas y privadas, ni entre géneros, lo que sugiere que estos factores específicos no son determinantes en el contexto estudiado. Sin embargo, los estudiantes con discapacidades de aprendizaje presentan un desempeño más bajo, evidenciando la necesidad de enfoques pedagógicos más inclusivos y personalizados.\n",
        "En resumen, el rendimiento académico es el resultado de una interacción compleja entre factores individuales, familiares y contextuales. Estos hallazgos subrayan la importancia de adoptar enfoques educativos integrales que incluyan el fortalecimiento del rol parental, la equidad en el acceso a recursos, el fomento de actividades extracurriculares y la implementación de apoyos específicos para estudiantes en condiciones desventajosas. De esta manera, se puede avanzar hacia una educación más inclusiva, equitativa y efectiva.\n"
      ],
      "metadata": {
        "id": "E2LBJni3_En4"
      }
    }
  ]
}